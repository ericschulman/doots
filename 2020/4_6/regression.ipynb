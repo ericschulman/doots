{
 "cells": [
  {
   "cell_type": "code",
   "execution_count": 8,
   "metadata": {},
   "outputs": [
    {
     "name": "stdout",
     "output_type": "stream",
     "text": [
      "[0.5, 0.25]"
     ]
    }
   ],
   "source": [
    "f = [.25; .25; .25; .25]\n",
    "x = [0 0 1 1; 0 1 0 1 ; 0 0 0 1 ; 0 1 0 1]\n",
    "x*f\n",
    "r1 = [1 0 0 0; 0 0 1 0]\n",
    "r2 = [1 0 ; 0 0]\n",
    "r3 = [ 0 0 0 0; 0 1 0 0]\n",
    "r4 = [1 0 ]\n",
    "r5 = [0 1 0 0; 0 0 0 1]\n",
    "r6 = [0 1]\n",
    "b = [0; 0]\n",
    "\n",
    "e(F,B) = r1*x*F + (r2 + r3*x*F*r4 + r5*x*F*r6)*B\n",
    "\n",
    "print(e(f,b))"
   ]
  },
  {
   "cell_type": "code",
   "execution_count": null,
   "metadata": {},
   "outputs": [],
   "source": []
  }
 ],
 "metadata": {
  "kernelspec": {
   "display_name": "Julia 1.0.3",
   "language": "julia",
   "name": "julia-1.0"
  },
  "language_info": {
   "file_extension": ".jl",
   "mimetype": "application/julia",
   "name": "julia",
   "version": "1.0.3"
  }
 },
 "nbformat": 4,
 "nbformat_minor": 2
}
